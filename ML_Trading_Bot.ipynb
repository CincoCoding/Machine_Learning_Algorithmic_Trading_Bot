{
  "nbformat": 4,
  "nbformat_minor": 0,
  "metadata": {
    "colab": {
      "provenance": [],
      "authorship_tag": "ABX9TyMVeEACMYh4htqQedu4hDj+",
      "include_colab_link": true
    },
    "kernelspec": {
      "name": "python3",
      "display_name": "Python 3"
    },
    "language_info": {
      "name": "python"
    }
  },
  "cells": [
    {
      "cell_type": "markdown",
      "metadata": {
        "id": "view-in-github",
        "colab_type": "text"
      },
      "source": [
        "<a href=\"https://colab.research.google.com/github/TimL2/Group_Project_2_ML_Bot/blob/main/ML_Trading_Bot.ipynb\" target=\"_parent\"><img src=\"https://colab.research.google.com/assets/colab-badge.svg\" alt=\"Open In Colab\"/></a>"
      ]
    },
    {
      "cell_type": "code",
      "execution_count": 1,
      "metadata": {
        "id": "ZCRYDyW9mDX6"
      },
      "outputs": [],
      "source": [
        "ALPACA_API_KEY = 'PKETI0Q5C8PPUXVNHJFJ'\n",
        "ALPACA_SECRET_KEY = 'WQxmEpBCoMXydCCg0G8cUe6hGLpgaAfrvedZ09Fy'"
      ]
    },
    {
      "cell_type": "code",
      "source": [],
      "metadata": {
        "id": "l9IKCTdp39fW"
      },
      "execution_count": null,
      "outputs": []
    }
  ]
}