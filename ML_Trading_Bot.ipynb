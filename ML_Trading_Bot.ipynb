{
  "nbformat": 4,
  "nbformat_minor": 0,
  "metadata": {
    "colab": {
      "provenance": [],
      "authorship_tag": "ABX9TyNZHbXL241N0izzuKatZSyu",
      "include_colab_link": true
    },
    "kernelspec": {
      "name": "python3",
      "display_name": "Python 3"
    },
    "language_info": {
      "name": "python"
    }
  },
  "cells": [
    {
      "cell_type": "markdown",
      "metadata": {
        "id": "view-in-github",
        "colab_type": "text"
      },
      "source": [
        "<a href=\"https://colab.research.google.com/github/TimL2/Group_Project_2_ML_Bot/blob/main/ML_Trading_Bot.ipynb\" target=\"_parent\"><img src=\"https://colab.research.google.com/assets/colab-badge.svg\" alt=\"Open In Colab\"/></a>"
      ]
    },
    {
      "cell_type": "code",
      "source": [
        "!pip install alpaca-trade-api"
      ],
      "metadata": {
        "id": "tuJ8r8Ut5IJG",
        "outputId": "abea086a-6f87-497a-cb67-b9723bf8f720",
        "colab": {
          "base_uri": "https://localhost:8080/"
        }
      },
      "execution_count": 6,
      "outputs": [
        {
          "output_type": "stream",
          "name": "stdout",
          "text": [
            "Looking in indexes: https://pypi.org/simple, https://us-python.pkg.dev/colab-wheels/public/simple/\n",
            "Collecting alpaca-trade-api\n",
            "  Downloading alpaca_trade_api-2.3.0-py3-none-any.whl (33 kB)\n",
            "Collecting websocket-client<2,>=0.56.0\n",
            "  Downloading websocket_client-1.4.1-py3-none-any.whl (55 kB)\n",
            "\u001b[K     |████████████████████████████████| 55 kB 3.1 MB/s \n",
            "\u001b[?25hCollecting deprecation==2.1.0\n",
            "  Downloading deprecation-2.1.0-py2.py3-none-any.whl (11 kB)\n",
            "Requirement already satisfied: pandas>=0.18.1 in /usr/local/lib/python3.7/dist-packages (from alpaca-trade-api) (1.3.5)\n",
            "Collecting websockets<11,>=9.0\n",
            "  Downloading websockets-10.3-cp37-cp37m-manylinux_2_5_x86_64.manylinux1_x86_64.manylinux_2_12_x86_64.manylinux2010_x86_64.whl (112 kB)\n",
            "\u001b[K     |████████████████████████████████| 112 kB 27.0 MB/s \n",
            "\u001b[?25hCollecting aiohttp==3.8.1\n",
            "  Downloading aiohttp-3.8.1-cp37-cp37m-manylinux_2_5_x86_64.manylinux1_x86_64.manylinux_2_12_x86_64.manylinux2010_x86_64.whl (1.1 MB)\n",
            "\u001b[K     |████████████████████████████████| 1.1 MB 50.8 MB/s \n",
            "\u001b[?25hRequirement already satisfied: PyYAML==6.0 in /usr/local/lib/python3.7/dist-packages (from alpaca-trade-api) (6.0)\n",
            "Collecting msgpack==1.0.3\n",
            "  Downloading msgpack-1.0.3-cp37-cp37m-manylinux_2_17_x86_64.manylinux2014_x86_64.whl (299 kB)\n",
            "\u001b[K     |████████████████████████████████| 299 kB 45.3 MB/s \n",
            "\u001b[?25hRequirement already satisfied: numpy>=1.11.1 in /usr/local/lib/python3.7/dist-packages (from alpaca-trade-api) (1.21.6)\n",
            "Requirement already satisfied: urllib3<2,>1.24 in /usr/local/lib/python3.7/dist-packages (from alpaca-trade-api) (1.24.3)\n",
            "Requirement already satisfied: requests<3,>2 in /usr/local/lib/python3.7/dist-packages (from alpaca-trade-api) (2.23.0)\n",
            "Requirement already satisfied: aiosignal>=1.1.2 in /usr/local/lib/python3.7/dist-packages (from aiohttp==3.8.1->alpaca-trade-api) (1.2.0)\n",
            "Requirement already satisfied: attrs>=17.3.0 in /usr/local/lib/python3.7/dist-packages (from aiohttp==3.8.1->alpaca-trade-api) (22.1.0)\n",
            "Requirement already satisfied: yarl<2.0,>=1.0 in /usr/local/lib/python3.7/dist-packages (from aiohttp==3.8.1->alpaca-trade-api) (1.8.1)\n",
            "Requirement already satisfied: async-timeout<5.0,>=4.0.0a3 in /usr/local/lib/python3.7/dist-packages (from aiohttp==3.8.1->alpaca-trade-api) (4.0.2)\n",
            "Requirement already satisfied: multidict<7.0,>=4.5 in /usr/local/lib/python3.7/dist-packages (from aiohttp==3.8.1->alpaca-trade-api) (6.0.2)\n",
            "Requirement already satisfied: charset-normalizer<3.0,>=2.0 in /usr/local/lib/python3.7/dist-packages (from aiohttp==3.8.1->alpaca-trade-api) (2.1.1)\n",
            "Requirement already satisfied: asynctest==0.13.0 in /usr/local/lib/python3.7/dist-packages (from aiohttp==3.8.1->alpaca-trade-api) (0.13.0)\n",
            "Requirement already satisfied: typing-extensions>=3.7.4 in /usr/local/lib/python3.7/dist-packages (from aiohttp==3.8.1->alpaca-trade-api) (4.1.1)\n",
            "Requirement already satisfied: frozenlist>=1.1.1 in /usr/local/lib/python3.7/dist-packages (from aiohttp==3.8.1->alpaca-trade-api) (1.3.1)\n",
            "Requirement already satisfied: packaging in /usr/local/lib/python3.7/dist-packages (from deprecation==2.1.0->alpaca-trade-api) (21.3)\n",
            "Requirement already satisfied: python-dateutil>=2.7.3 in /usr/local/lib/python3.7/dist-packages (from pandas>=0.18.1->alpaca-trade-api) (2.8.2)\n",
            "Requirement already satisfied: pytz>=2017.3 in /usr/local/lib/python3.7/dist-packages (from pandas>=0.18.1->alpaca-trade-api) (2022.4)\n",
            "Requirement already satisfied: six>=1.5 in /usr/local/lib/python3.7/dist-packages (from python-dateutil>=2.7.3->pandas>=0.18.1->alpaca-trade-api) (1.15.0)\n",
            "Requirement already satisfied: idna<3,>=2.5 in /usr/local/lib/python3.7/dist-packages (from requests<3,>2->alpaca-trade-api) (2.10)\n",
            "Requirement already satisfied: chardet<4,>=3.0.2 in /usr/local/lib/python3.7/dist-packages (from requests<3,>2->alpaca-trade-api) (3.0.4)\n",
            "Requirement already satisfied: certifi>=2017.4.17 in /usr/local/lib/python3.7/dist-packages (from requests<3,>2->alpaca-trade-api) (2022.9.24)\n",
            "Requirement already satisfied: pyparsing!=3.0.5,>=2.0.2 in /usr/local/lib/python3.7/dist-packages (from packaging->deprecation==2.1.0->alpaca-trade-api) (3.0.9)\n",
            "Installing collected packages: websockets, websocket-client, msgpack, deprecation, aiohttp, alpaca-trade-api\n",
            "  Attempting uninstall: msgpack\n",
            "    Found existing installation: msgpack 1.0.4\n",
            "    Uninstalling msgpack-1.0.4:\n",
            "      Successfully uninstalled msgpack-1.0.4\n",
            "  Attempting uninstall: aiohttp\n",
            "    Found existing installation: aiohttp 3.8.3\n",
            "    Uninstalling aiohttp-3.8.3:\n",
            "      Successfully uninstalled aiohttp-3.8.3\n",
            "Successfully installed aiohttp-3.8.1 alpaca-trade-api-2.3.0 deprecation-2.1.0 msgpack-1.0.3 websocket-client-1.4.1 websockets-10.3\n"
          ]
        }
      ]
    },
    {
      "cell_type": "code",
      "source": [
        "# Initial imports\n",
        "import pandas as pd\n",
        "import alpaca_trade_api as tradeapi"
      ],
      "metadata": {
        "id": "l9IKCTdp39fW"
      },
      "execution_count": 7,
      "outputs": []
    },
    {
      "cell_type": "code",
      "execution_count": 11,
      "metadata": {
        "id": "ZCRYDyW9mDX6"
      },
      "outputs": [],
      "source": [
        "ALPACA_API_KEY = 'PKETI0Q5C8PPUXVNHJFJ'\n",
        "ALPACA_SECRET_KEY = 'WQxmEpBCoMXydCCg0G8cUe6hGLpgaAfrvedZ09Fy'\n",
        "ALPACA_API_BASE_URL = \"https://paper-api.alpaca.markets\""
      ]
    },
    {
      "cell_type": "code",
      "source": [
        "# Create a connection to the API \n",
        "api = tradeapi.REST(ALPACA_API_KEY, ALPACA_SECRET_KEY, ALPACA_API_BASE_URL, api_version=\"v2\")"
      ],
      "metadata": {
        "id": "4dWYwXhM488Y"
      },
      "execution_count": 12,
      "outputs": []
    },
    {
      "cell_type": "code",
      "source": [
        "# Set signal variable\n",
        "signal = 1"
      ],
      "metadata": {
        "id": "s2Gw7eek50nH"
      },
      "execution_count": 13,
      "outputs": []
    },
    {
      "cell_type": "code",
      "source": [
        " # Create buy signal, num shares and ticker\n",
        "if signal == 1:\n",
        "    orderSide = \"buy\"\n",
        "else:\n",
        "    orderSide = \"sell\""
      ],
      "metadata": {
        "id": "ZvuHqKD16SlY"
      },
      "execution_count": 14,
      "outputs": []
    },
    {
      "cell_type": "code",
      "source": [
        "# Set the ticket symbol and the number of shares to buy\n",
        "ticker = \"TSLA\"\n",
        "number_of_shares = 1"
      ],
      "metadata": {
        "id": "RLANT_gm6T_c"
      },
      "execution_count": 15,
      "outputs": []
    },
    {
      "cell_type": "code",
      "source": [
        " # Make API call\n",
        "prices = api.get_bars(ticker, \"1Min\").df\n",
        "\n",
        "# Reorganize the DataFrame\n",
        "prices = pd.concat([prices], axis=1, keys=[\"TSLA\"])\n",
        "\n",
        "# Get final closing price\n",
        "limit_amount = prices[\"TSLA\"][\"close\"][-1]"
      ],
      "metadata": {
        "id": "ZSOawUWF6Wsb"
      },
      "execution_count": 16,
      "outputs": []
    },
    {
      "cell_type": "code",
      "source": [
        "prices"
      ],
      "metadata": {
        "id": "ANXBTyqr6k9m",
        "outputId": "1b2bd6f2-d2e3-4946-8f59-8224f099cb2f",
        "colab": {
          "base_uri": "https://localhost:8080/",
          "height": 486
        }
      },
      "execution_count": 17,
      "outputs": [
        {
          "output_type": "execute_result",
          "data": {
            "text/plain": [
              "                             TSLA                                             \\\n",
              "                             open    high     low   close volume trade_count   \n",
              "timestamp                                                                      \n",
              "2022-10-17 08:00:00+00:00  210.32  210.32  208.05  208.71  21779         543   \n",
              "2022-10-17 08:01:00+00:00  208.77  209.14  208.52  208.82  10910         409   \n",
              "2022-10-17 08:02:00+00:00  208.90  208.90  208.38  208.50  10515         422   \n",
              "2022-10-17 08:03:00+00:00  208.49  208.50  208.19  208.32   5429         248   \n",
              "2022-10-17 08:04:00+00:00  208.21  208.39  208.20  208.39   3965         223   \n",
              "...                           ...     ...     ...     ...    ...         ...   \n",
              "2022-10-17 23:55:00+00:00  222.80  222.87  222.71  222.71   7792         123   \n",
              "2022-10-17 23:56:00+00:00  222.72  222.75  222.70  222.75   3651          91   \n",
              "2022-10-17 23:57:00+00:00  222.75  222.80  222.75  222.75   5887          78   \n",
              "2022-10-17 23:58:00+00:00  222.80  222.80  222.72  222.75   8468         114   \n",
              "2022-10-17 23:59:00+00:00  222.78  222.80  222.72  222.75  12511         191   \n",
              "\n",
              "                                       \n",
              "                                 vwap  \n",
              "timestamp                              \n",
              "2022-10-17 08:00:00+00:00  209.101876  \n",
              "2022-10-17 08:01:00+00:00  208.879309  \n",
              "2022-10-17 08:02:00+00:00  208.624815  \n",
              "2022-10-17 08:03:00+00:00  208.388886  \n",
              "2022-10-17 08:04:00+00:00  208.292076  \n",
              "...                               ...  \n",
              "2022-10-17 23:55:00+00:00  222.799405  \n",
              "2022-10-17 23:56:00+00:00  222.733232  \n",
              "2022-10-17 23:57:00+00:00  222.773214  \n",
              "2022-10-17 23:58:00+00:00  222.764763  \n",
              "2022-10-17 23:59:00+00:00  222.752236  \n",
              "\n",
              "[918 rows x 7 columns]"
            ],
            "text/html": [
              "\n",
              "  <div id=\"df-cf710dde-c87e-4f47-b593-cfe0f7f93bda\">\n",
              "    <div class=\"colab-df-container\">\n",
              "      <div>\n",
              "<style scoped>\n",
              "    .dataframe tbody tr th:only-of-type {\n",
              "        vertical-align: middle;\n",
              "    }\n",
              "\n",
              "    .dataframe tbody tr th {\n",
              "        vertical-align: top;\n",
              "    }\n",
              "\n",
              "    .dataframe thead tr th {\n",
              "        text-align: left;\n",
              "    }\n",
              "\n",
              "    .dataframe thead tr:last-of-type th {\n",
              "        text-align: right;\n",
              "    }\n",
              "</style>\n",
              "<table border=\"1\" class=\"dataframe\">\n",
              "  <thead>\n",
              "    <tr>\n",
              "      <th></th>\n",
              "      <th colspan=\"7\" halign=\"left\">TSLA</th>\n",
              "    </tr>\n",
              "    <tr>\n",
              "      <th></th>\n",
              "      <th>open</th>\n",
              "      <th>high</th>\n",
              "      <th>low</th>\n",
              "      <th>close</th>\n",
              "      <th>volume</th>\n",
              "      <th>trade_count</th>\n",
              "      <th>vwap</th>\n",
              "    </tr>\n",
              "    <tr>\n",
              "      <th>timestamp</th>\n",
              "      <th></th>\n",
              "      <th></th>\n",
              "      <th></th>\n",
              "      <th></th>\n",
              "      <th></th>\n",
              "      <th></th>\n",
              "      <th></th>\n",
              "    </tr>\n",
              "  </thead>\n",
              "  <tbody>\n",
              "    <tr>\n",
              "      <th>2022-10-17 08:00:00+00:00</th>\n",
              "      <td>210.32</td>\n",
              "      <td>210.32</td>\n",
              "      <td>208.05</td>\n",
              "      <td>208.71</td>\n",
              "      <td>21779</td>\n",
              "      <td>543</td>\n",
              "      <td>209.101876</td>\n",
              "    </tr>\n",
              "    <tr>\n",
              "      <th>2022-10-17 08:01:00+00:00</th>\n",
              "      <td>208.77</td>\n",
              "      <td>209.14</td>\n",
              "      <td>208.52</td>\n",
              "      <td>208.82</td>\n",
              "      <td>10910</td>\n",
              "      <td>409</td>\n",
              "      <td>208.879309</td>\n",
              "    </tr>\n",
              "    <tr>\n",
              "      <th>2022-10-17 08:02:00+00:00</th>\n",
              "      <td>208.90</td>\n",
              "      <td>208.90</td>\n",
              "      <td>208.38</td>\n",
              "      <td>208.50</td>\n",
              "      <td>10515</td>\n",
              "      <td>422</td>\n",
              "      <td>208.624815</td>\n",
              "    </tr>\n",
              "    <tr>\n",
              "      <th>2022-10-17 08:03:00+00:00</th>\n",
              "      <td>208.49</td>\n",
              "      <td>208.50</td>\n",
              "      <td>208.19</td>\n",
              "      <td>208.32</td>\n",
              "      <td>5429</td>\n",
              "      <td>248</td>\n",
              "      <td>208.388886</td>\n",
              "    </tr>\n",
              "    <tr>\n",
              "      <th>2022-10-17 08:04:00+00:00</th>\n",
              "      <td>208.21</td>\n",
              "      <td>208.39</td>\n",
              "      <td>208.20</td>\n",
              "      <td>208.39</td>\n",
              "      <td>3965</td>\n",
              "      <td>223</td>\n",
              "      <td>208.292076</td>\n",
              "    </tr>\n",
              "    <tr>\n",
              "      <th>...</th>\n",
              "      <td>...</td>\n",
              "      <td>...</td>\n",
              "      <td>...</td>\n",
              "      <td>...</td>\n",
              "      <td>...</td>\n",
              "      <td>...</td>\n",
              "      <td>...</td>\n",
              "    </tr>\n",
              "    <tr>\n",
              "      <th>2022-10-17 23:55:00+00:00</th>\n",
              "      <td>222.80</td>\n",
              "      <td>222.87</td>\n",
              "      <td>222.71</td>\n",
              "      <td>222.71</td>\n",
              "      <td>7792</td>\n",
              "      <td>123</td>\n",
              "      <td>222.799405</td>\n",
              "    </tr>\n",
              "    <tr>\n",
              "      <th>2022-10-17 23:56:00+00:00</th>\n",
              "      <td>222.72</td>\n",
              "      <td>222.75</td>\n",
              "      <td>222.70</td>\n",
              "      <td>222.75</td>\n",
              "      <td>3651</td>\n",
              "      <td>91</td>\n",
              "      <td>222.733232</td>\n",
              "    </tr>\n",
              "    <tr>\n",
              "      <th>2022-10-17 23:57:00+00:00</th>\n",
              "      <td>222.75</td>\n",
              "      <td>222.80</td>\n",
              "      <td>222.75</td>\n",
              "      <td>222.75</td>\n",
              "      <td>5887</td>\n",
              "      <td>78</td>\n",
              "      <td>222.773214</td>\n",
              "    </tr>\n",
              "    <tr>\n",
              "      <th>2022-10-17 23:58:00+00:00</th>\n",
              "      <td>222.80</td>\n",
              "      <td>222.80</td>\n",
              "      <td>222.72</td>\n",
              "      <td>222.75</td>\n",
              "      <td>8468</td>\n",
              "      <td>114</td>\n",
              "      <td>222.764763</td>\n",
              "    </tr>\n",
              "    <tr>\n",
              "      <th>2022-10-17 23:59:00+00:00</th>\n",
              "      <td>222.78</td>\n",
              "      <td>222.80</td>\n",
              "      <td>222.72</td>\n",
              "      <td>222.75</td>\n",
              "      <td>12511</td>\n",
              "      <td>191</td>\n",
              "      <td>222.752236</td>\n",
              "    </tr>\n",
              "  </tbody>\n",
              "</table>\n",
              "<p>918 rows × 7 columns</p>\n",
              "</div>\n",
              "      <button class=\"colab-df-convert\" onclick=\"convertToInteractive('df-cf710dde-c87e-4f47-b593-cfe0f7f93bda')\"\n",
              "              title=\"Convert this dataframe to an interactive table.\"\n",
              "              style=\"display:none;\">\n",
              "        \n",
              "  <svg xmlns=\"http://www.w3.org/2000/svg\" height=\"24px\"viewBox=\"0 0 24 24\"\n",
              "       width=\"24px\">\n",
              "    <path d=\"M0 0h24v24H0V0z\" fill=\"none\"/>\n",
              "    <path d=\"M18.56 5.44l.94 2.06.94-2.06 2.06-.94-2.06-.94-.94-2.06-.94 2.06-2.06.94zm-11 1L8.5 8.5l.94-2.06 2.06-.94-2.06-.94L8.5 2.5l-.94 2.06-2.06.94zm10 10l.94 2.06.94-2.06 2.06-.94-2.06-.94-.94-2.06-.94 2.06-2.06.94z\"/><path d=\"M17.41 7.96l-1.37-1.37c-.4-.4-.92-.59-1.43-.59-.52 0-1.04.2-1.43.59L10.3 9.45l-7.72 7.72c-.78.78-.78 2.05 0 2.83L4 21.41c.39.39.9.59 1.41.59.51 0 1.02-.2 1.41-.59l7.78-7.78 2.81-2.81c.8-.78.8-2.07 0-2.86zM5.41 20L4 18.59l7.72-7.72 1.47 1.35L5.41 20z\"/>\n",
              "  </svg>\n",
              "      </button>\n",
              "      \n",
              "  <style>\n",
              "    .colab-df-container {\n",
              "      display:flex;\n",
              "      flex-wrap:wrap;\n",
              "      gap: 12px;\n",
              "    }\n",
              "\n",
              "    .colab-df-convert {\n",
              "      background-color: #E8F0FE;\n",
              "      border: none;\n",
              "      border-radius: 50%;\n",
              "      cursor: pointer;\n",
              "      display: none;\n",
              "      fill: #1967D2;\n",
              "      height: 32px;\n",
              "      padding: 0 0 0 0;\n",
              "      width: 32px;\n",
              "    }\n",
              "\n",
              "    .colab-df-convert:hover {\n",
              "      background-color: #E2EBFA;\n",
              "      box-shadow: 0px 1px 2px rgba(60, 64, 67, 0.3), 0px 1px 3px 1px rgba(60, 64, 67, 0.15);\n",
              "      fill: #174EA6;\n",
              "    }\n",
              "\n",
              "    [theme=dark] .colab-df-convert {\n",
              "      background-color: #3B4455;\n",
              "      fill: #D2E3FC;\n",
              "    }\n",
              "\n",
              "    [theme=dark] .colab-df-convert:hover {\n",
              "      background-color: #434B5C;\n",
              "      box-shadow: 0px 1px 3px 1px rgba(0, 0, 0, 0.15);\n",
              "      filter: drop-shadow(0px 1px 2px rgba(0, 0, 0, 0.3));\n",
              "      fill: #FFFFFF;\n",
              "    }\n",
              "  </style>\n",
              "\n",
              "      <script>\n",
              "        const buttonEl =\n",
              "          document.querySelector('#df-cf710dde-c87e-4f47-b593-cfe0f7f93bda button.colab-df-convert');\n",
              "        buttonEl.style.display =\n",
              "          google.colab.kernel.accessAllowed ? 'block' : 'none';\n",
              "\n",
              "        async function convertToInteractive(key) {\n",
              "          const element = document.querySelector('#df-cf710dde-c87e-4f47-b593-cfe0f7f93bda');\n",
              "          const dataTable =\n",
              "            await google.colab.kernel.invokeFunction('convertToInteractive',\n",
              "                                                     [key], {});\n",
              "          if (!dataTable) return;\n",
              "\n",
              "          const docLinkHtml = 'Like what you see? Visit the ' +\n",
              "            '<a target=\"_blank\" href=https://colab.research.google.com/notebooks/data_table.ipynb>data table notebook</a>'\n",
              "            + ' to learn more about interactive tables.';\n",
              "          element.innerHTML = '';\n",
              "          dataTable['output_type'] = 'display_data';\n",
              "          await google.colab.output.renderOutput(dataTable, element);\n",
              "          const docLink = document.createElement('div');\n",
              "          docLink.innerHTML = docLinkHtml;\n",
              "          element.appendChild(docLink);\n",
              "        }\n",
              "      </script>\n",
              "    </div>\n",
              "  </div>\n",
              "  "
            ]
          },
          "metadata": {},
          "execution_count": 17
        }
      ]
    },
    {
      "cell_type": "code",
      "source": [
        "limit_amount"
      ],
      "metadata": {
        "id": "DUVpIK0t6oER",
        "outputId": "07e9cd25-ce5a-4ccc-b3ad-749811b7c709",
        "colab": {
          "base_uri": "https://localhost:8080/"
        }
      },
      "execution_count": 18,
      "outputs": [
        {
          "output_type": "execute_result",
          "data": {
            "text/plain": [
              "222.75"
            ]
          },
          "metadata": {},
          "execution_count": 18
        }
      ]
    },
    {
      "cell_type": "code",
      "source": [],
      "metadata": {
        "id": "tLoFBFIG6q6N"
      },
      "execution_count": null,
      "outputs": []
    }
  ]
}